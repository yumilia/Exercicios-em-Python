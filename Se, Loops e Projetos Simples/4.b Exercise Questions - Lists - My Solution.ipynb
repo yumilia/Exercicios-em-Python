{
 "cells": [
  {
   "cell_type": "markdown",
   "metadata": {},
   "source": [
    "# <font color='red'> *ABSOLUTE BEGINNER LEVEL* </font> \n",
    "# <font color='red'> LISTS </font> "
   ]
  },
  {
   "cell_type": "markdown",
   "metadata": {},
   "source": [
    "# <font color='blue'> 1. PRINT FIRST, SECOND AND LAST ELEMENT IN THE LIST </font> \n",
    "Remember that the first element of the list has an index of 0"
   ]
  },
  {
   "cell_type": "code",
   "execution_count": 1,
   "metadata": {},
   "outputs": [
    {
     "name": "stdout",
     "output_type": "stream",
     "text": [
      "sara chanel rob\n"
     ]
    }
   ],
   "source": [
    "names = [\"sara\", \"chanel\", \"mike\", \"ryan\", \"holy\", \"alex\", \"rob\"]\n",
    "print(names[0],names[1],names[6])"
   ]
  },
  {
   "cell_type": "markdown",
   "metadata": {},
   "source": [
    "# <font color='blue'> 2. PRINT (1) ALL ELEMENTS IN THE LIST, (2) \"chanel\" \"mitch\" \"ryan\", (3) FIRST THREE ELEMENTS, (4) LAST THREE ELEMENTS, (5) SKIP EACH OTHER ELEMENT </font> "
   ]
  },
  {
   "cell_type": "code",
   "execution_count": 4,
   "metadata": {},
   "outputs": [
    {
     "name": "stdout",
     "output_type": "stream",
     "text": [
      "['sara', 'chanel', 'mitch', 'ryan', 'holy', 'alex', 'rob']\n",
      "['chanel', 'mitch', 'ryan']\n",
      "['sara', 'chanel', 'mitch']\n",
      "['holy', 'alex', 'rob']\n",
      "['sara', 'mitch', 'holy', 'rob']\n"
     ]
    }
   ],
   "source": [
    "names = [\"sara\", \"chanel\", \"mitch\", \"ryan\", \"holy\", \"alex\", \"rob\"]\n",
    "print(names)\n",
    "print(names[1:4])\n",
    "print(names[0:3])\n",
    "print(names[4:])\n",
    "print(names[::2])"
   ]
  },
  {
   "cell_type": "markdown",
   "metadata": {},
   "source": [
    "# <font color='blue'> 3. PRINT (1) SALLY, (2) SARA, SALLY, JOE (3) ALY (WITH TWO DIFFERENT WAYS) </font> \n"
   ]
  },
  {
   "cell_type": "code",
   "execution_count": 5,
   "metadata": {},
   "outputs": [],
   "source": [
    "my_list = [\"Mitch\", [\"sara\", \"sally\", \"joe\"], \"peter\", \"aly\"]"
   ]
  },
  {
   "cell_type": "code",
   "execution_count": 7,
   "metadata": {},
   "outputs": [
    {
     "name": "stdout",
     "output_type": "stream",
     "text": [
      "sally\n"
     ]
    }
   ],
   "source": [
    "print(my_list[1][1])"
   ]
  },
  {
   "cell_type": "code",
   "execution_count": 8,
   "metadata": {},
   "outputs": [
    {
     "name": "stdout",
     "output_type": "stream",
     "text": [
      "['sara', 'sally', 'joe']\n"
     ]
    }
   ],
   "source": [
    "print(my_list[1])"
   ]
  },
  {
   "cell_type": "code",
   "execution_count": 9,
   "metadata": {},
   "outputs": [
    {
     "name": "stdout",
     "output_type": "stream",
     "text": [
      "aly\n"
     ]
    }
   ],
   "source": [
    "print(my_list[-1])"
   ]
  },
  {
   "cell_type": "code",
   "execution_count": 11,
   "metadata": {},
   "outputs": [
    {
     "name": "stdout",
     "output_type": "stream",
     "text": [
      "aly\n"
     ]
    }
   ],
   "source": [
    "print(my_list[3])"
   ]
  },
  {
   "cell_type": "markdown",
   "metadata": {},
   "source": [
    "# <font color='blue'> 4. PRINT THE LENGTH OF THE LIST AND ADD YOUR NAME TO THE LIST (EXTERNAL RESEARCH) </font> \n",
    "    - research the method: append()"
   ]
  },
  {
   "cell_type": "code",
   "execution_count": null,
   "metadata": {},
   "outputs": [],
   "source": [
    "my_list = [\"Mitch\", [\"sara\", \"sally\", \"joe\"], \"peter\", \"aly\"]"
   ]
  },
  {
   "cell_type": "code",
   "execution_count": 12,
   "metadata": {},
   "outputs": [
    {
     "name": "stdout",
     "output_type": "stream",
     "text": [
      "4\n"
     ]
    }
   ],
   "source": [
    "print(len(my_list))"
   ]
  },
  {
   "cell_type": "code",
   "execution_count": 13,
   "metadata": {},
   "outputs": [],
   "source": [
    "my_list.append(\"Yumi\")"
   ]
  },
  {
   "cell_type": "code",
   "execution_count": 14,
   "metadata": {},
   "outputs": [
    {
     "name": "stdout",
     "output_type": "stream",
     "text": [
      "['Mitch', ['sara', 'sally', 'joe'], 'peter', 'aly', 'Yumi']\n"
     ]
    }
   ],
   "source": [
    "print(my_list)"
   ]
  },
  {
   "cell_type": "markdown",
   "metadata": {},
   "source": [
    "# <font color='blue'> 5. REMOVE \"PETER\" FROM THE LIST USING TWO DIFFERENT METHODS (EXTERNAL RESEARCH)  </font> \n",
    "    - remove()\n",
    "    - del "
   ]
  },
  {
   "cell_type": "code",
   "execution_count": 23,
   "metadata": {},
   "outputs": [],
   "source": [
    "my_list = [\"Mitch\", [\"sara\", \"sally\", \"joe\"], \"peter\", \"aly\"]"
   ]
  },
  {
   "cell_type": "code",
   "execution_count": 24,
   "metadata": {},
   "outputs": [],
   "source": [
    "my_list.remove(\"peter\")"
   ]
  },
  {
   "cell_type": "code",
   "execution_count": 25,
   "metadata": {},
   "outputs": [
    {
     "name": "stdout",
     "output_type": "stream",
     "text": [
      "['Mitch', ['sara', 'sally', 'joe'], 'aly']\n"
     ]
    }
   ],
   "source": [
    "print(my_list)"
   ]
  },
  {
   "cell_type": "code",
   "execution_count": 26,
   "metadata": {},
   "outputs": [
    {
     "name": "stdout",
     "output_type": "stream",
     "text": [
      "['Mitch', ['sara', 'sally', 'joe'], 'aly', 'peter']\n"
     ]
    }
   ],
   "source": [
    "my_list.append(\"peter\")\n",
    "print(my_list)"
   ]
  },
  {
   "cell_type": "code",
   "execution_count": 28,
   "metadata": {},
   "outputs": [],
   "source": [
    "del my_list[3]"
   ]
  },
  {
   "cell_type": "code",
   "execution_count": 29,
   "metadata": {},
   "outputs": [
    {
     "name": "stdout",
     "output_type": "stream",
     "text": [
      "['Mitch', ['sara', 'sally', 'joe'], 'aly']\n"
     ]
    }
   ],
   "source": [
    "print(my_list)"
   ]
  },
  {
   "cell_type": "markdown",
   "metadata": {},
   "source": [
    "# <font color='blue'> 6. SORT ELEMENTS IN A LIST AND REVERSE ALL ELEMENTS TO GO FROM MAXIMUM TO MINIMUM </font> \n",
    "    - sort()\n",
    "    - reverse()\n",
    "   "
   ]
  },
  {
   "cell_type": "code",
   "execution_count": 30,
   "metadata": {},
   "outputs": [],
   "source": [
    "my_list = [50, 20, 30, 10, 40, 15, 45]"
   ]
  },
  {
   "cell_type": "code",
   "execution_count": 38,
   "metadata": {},
   "outputs": [
    {
     "name": "stdout",
     "output_type": "stream",
     "text": [
      "Ordem crescente: [10, 15, 20, 30, 40, 45, 50]\n",
      "Ordem descrescente: [50, 45, 40, 30, 20, 15, 10]\n"
     ]
    }
   ],
   "source": [
    "my_list.sort()\n",
    "print(\"Ordem crescente:\",my_list)\n",
    "my_list.reverse()\n",
    "print(\"Ordem descrescente:\",my_list)"
   ]
  },
  {
   "cell_type": "markdown",
   "metadata": {},
   "source": [
    "# <font color='blue'> 7. CREATE A NEW LIST THAT CONTAINS THE LAST ELEMENTS IN THE NESTED LISTS </font> \n",
    "   "
   ]
  },
  {
   "cell_type": "code",
   "execution_count": 36,
   "metadata": {},
   "outputs": [],
   "source": [
    "grocery_list = [['chips','jelly','chocolate'],['sweet potatoes','potatoes'],['peanuts','protein bar']]\n",
    "list=[]"
   ]
  },
  {
   "cell_type": "code",
   "execution_count": 37,
   "metadata": {},
   "outputs": [
    {
     "data": {
      "text/plain": [
       "['chocolate', 'potatoes', 'protein bar']"
      ]
     },
     "execution_count": 37,
     "metadata": {},
     "output_type": "execute_result"
    }
   ],
   "source": [
    "list.append(grocery_list[0][-1])\n",
    "list.append(grocery_list[1][-1])\n",
    "list.append(grocery_list[2][-1])\n",
    "list"
   ]
  },
  {
   "cell_type": "markdown",
   "metadata": {},
   "source": [
    "# <font color='blue'> 8. CREATE A LIST WITH 5 OF YOUR CLOSEST FRIENDS AND SORT THEM ALPHABETICALLY </font> \n",
    "   "
   ]
  },
  {
   "cell_type": "code",
   "execution_count": 39,
   "metadata": {},
   "outputs": [],
   "source": [
    "friends=['Emy','Caio','Pedro','Gabi','Estrela']"
   ]
  },
  {
   "cell_type": "code",
   "execution_count": 40,
   "metadata": {},
   "outputs": [
    {
     "name": "stdout",
     "output_type": "stream",
     "text": [
      "Amigos: ['Caio', 'Emy', 'Estrela', 'Gabi', 'Pedro']\n"
     ]
    }
   ],
   "source": [
    "friends.sort()\n",
    "print(\"Amigos:\",friends)"
   ]
  },
  {
   "cell_type": "markdown",
   "metadata": {},
   "source": [
    "# NOW YOU KNOW HOW LISTS WORK, KEEP IT UP!"
   ]
  }
 ],
 "metadata": {
  "kernelspec": {
   "display_name": "Python 3",
   "language": "python",
   "name": "python3"
  },
  "language_info": {
   "codemirror_mode": {
    "name": "ipython",
    "version": 3
   },
   "file_extension": ".py",
   "mimetype": "text/x-python",
   "name": "python",
   "nbconvert_exporter": "python",
   "pygments_lexer": "ipython3",
   "version": "3.8.5"
  }
 },
 "nbformat": 4,
 "nbformat_minor": 2
}
