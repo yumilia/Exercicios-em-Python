{
 "cells": [
  {
   "cell_type": "markdown",
   "metadata": {},
   "source": [
    "# <font color='red'> *ABSOLUTE BEGINNER LEVEL* </font> \n",
    "# <font color='red'> DICTIONARIES </font> "
   ]
  },
  {
   "cell_type": "markdown",
   "metadata": {},
   "source": [
    "# <font color='blue'> 1. CREATE A DICTIONARY WITH 3 OF YOUR FAVOURITE FRIENDS AND THEIR RESPECTIVE AGE AND PRINT OUT THE AGE OF SECOND NAME YOU CHOOSE</font> "
   ]
  },
  {
   "cell_type": "code",
   "execution_count": 2,
   "metadata": {},
   "outputs": [
    {
     "name": "stdout",
     "output_type": "stream",
     "text": [
      "22\n"
     ]
    }
   ],
   "source": [
    "my_friends = {\"laila\": 25, \n",
    "              \"sally\": 22,\n",
    "              \"rob\": 31}\n",
    "my_friends\n",
    "print(my_friends[\"sally\"])"
   ]
  },
  {
   "cell_type": "markdown",
   "metadata": {},
   "source": [
    "# <font color='blue'> 2. CREATE A DICTIONARY WITH 3 OF YOUR FAVOURITE FRIENDS AND THEIR RESPECTIVE HOURLY WAGE AND OBTAIN THE AVERAGE OF ALL THEIR SALARIES </font> "
   ]
  },
  {
   "cell_type": "code",
   "execution_count": 3,
   "metadata": {},
   "outputs": [
    {
     "name": "stdout",
     "output_type": "stream",
     "text": [
      "{'laila': 25, 'sally': 22, 'rob': 31}\n",
      "26.0\n"
     ]
    }
   ],
   "source": [
    "my_friends = {\"laila\": 25, \n",
    "              \"sally\": 22,\n",
    "              \"rob\": 31}\n",
    "print(my_friends)\n",
    "print((my_friends[\"laila\"] + my_friends[\"sally\"] + my_friends[\"rob\"])/3 )"
   ]
  },
  {
   "cell_type": "markdown",
   "metadata": {},
   "source": [
    "# <font color='blue'> 3. UPDATE THE PREVIOUS DICTIONARY WITH TWO OF YOUR NEXT FAVOURITE FRIENDS AND THEIR RESPECTIVE SALARIES AND OBTAIN THE AVERAGE OF ALL THEIR SALARIES </font> "
   ]
  },
  {
   "cell_type": "code",
   "execution_count": 88,
   "metadata": {},
   "outputs": [
    {
     "name": "stdout",
     "output_type": "stream",
     "text": [
      "{'laila': 25, 'sally': 22, 'rob': 31, 'Mary': 22, 'Peter': 25}\n",
      "25.0\n"
     ]
    }
   ],
   "source": [
    "\n",
    "my_friends = {\"laila\": 25, \n",
    "              \"sally\": 22,\n",
    "              \"rob\": 31}\n",
    "\n",
    "my_friends [\"Mary\"] = 22\n",
    "my_friends [\"Peter\"] = 25\n",
    "\n",
    "\n",
    "print(my_friends)\n",
    "print( (my_friends[\"laila\"] + my_friends[\"sally\"] + my_friends[\"rob\"] + my_friends[\"Mary\"] + my_friends[\"Peter\"])/5)\n"
   ]
  },
  {
   "cell_type": "code",
   "execution_count": null,
   "metadata": {},
   "outputs": [],
   "source": [
    "print(sum(my_friends.values())/5)\n"
   ]
  },
  {
   "cell_type": "markdown",
   "metadata": {},
   "source": [
    "# <font color='blue'> 4. WRITE A CODE THAT MULTIPLIES ALL THE ELEMENTS IN THE FOLLOWING DICTIONARY"
   ]
  },
  {
   "cell_type": "code",
   "execution_count": 10,
   "metadata": {},
   "outputs": [
    {
     "name": "stdout",
     "output_type": "stream",
     "text": [
      "-1500000\n"
     ]
    }
   ],
   "source": [
    "my_dict = {'data1':500,\n",
    "           'data2':-10,\n",
    "           'data3':300}\n",
    "\n",
    "total = 1\n",
    "    \n",
    "total = total * my_dict['data1']\n",
    "total = total * my_dict['data2']\n",
    "total = total * my_dict['data3']\n",
    "\n",
    "print(total)"
   ]
  },
  {
   "cell_type": "markdown",
   "metadata": {},
   "source": [
    "# <font color='blue'> 5. FOR EACH OF THE STUDENTS LIST BELOW, CALCULATE THE AVERAGE MARK FOR THE MIDTERM AND FINAL EXAMS FOR EACH STUDENT AND PUT THE AVERAGE IN A SEPARATE DICTIONARY ALONG WITH WITH THE STUDENT ID "
   ]
  },
  {
   "cell_type": "code",
   "execution_count": 91,
   "metadata": {},
   "outputs": [
    {
     "name": "stdout",
     "output_type": "stream",
     "text": [
      "[{'average': 72.5, 'student_id': 1},\n",
      " {'average': 79.0, 'student_id': 2},\n",
      " {'average': 87.5, 'student_id': 3}]\n"
     ]
    }
   ],
   "source": [
    "student_details = [\n",
    "  {'student_id' : 1, 'subject' : 'math', 'midterm' : 60, 'final' : 85},\n",
    "  {'student_id' : 2, 'subject' : 'math', 'midterm' : 80, 'final' : 78},\n",
    "  {'student_id' : 3, 'subject' : 'math', 'midterm' : 90, 'final' : 85}\n",
    "]\n",
    "\n",
    "\n",
    "average_1 = (student_details[0][\"midterm\"]+student_details[0][\"final\"])/2\n",
    "average_2 = (student_details[1][\"midterm\"]+student_details[1][\"final\"])/2\n",
    "average_3 = (student_details[2][\"midterm\"]+student_details[2][\"final\"])/2\n",
    "\n",
    "\n",
    "my_average = [{'student_id': 1, 'average' : average_1},\n",
    "              {'student_id': 2, 'average' : average_2},\n",
    "              {'student_id': 3, 'average' : average_3}\n",
    "             ]\n",
    "\n",
    "from pprint import pprint\n",
    "\n",
    "pprint(my_average)"
   ]
  },
  {
   "cell_type": "markdown",
   "metadata": {},
   "source": [
    "# <font color='blue'> 6. REPEAT THE PREVIOUS EXERCISE BUT ADD THE AVERAGE IN A NEW DICTINARY LINE WITH \"AVERAGE\" AS A KEY"
   ]
  },
  {
   "cell_type": "code",
   "execution_count": 34,
   "metadata": {},
   "outputs": [],
   "source": [
    "student_details[0]['average'] = (student_details[0][\"midterm\"]+student_details[0][\"final\"])/2\n",
    "student_details[1]['average'] = (student_details[1][\"midterm\"]+student_details[1][\"final\"])/2\n",
    "student_details[2]['average'] = (student_details[2][\"midterm\"]+student_details[2][\"final\"])/2\n",
    "\n",
    "print(student_details[0])"
   ]
  },
  {
   "cell_type": "markdown",
   "metadata": {},
   "source": [
    "# <font color='blue'> 7. SQUARE EACH ELEMENT IN THE FOLLOWING DICTIONARY"
   ]
  },
  {
   "cell_type": "code",
   "execution_count": 45,
   "metadata": {},
   "outputs": [],
   "source": [
    "dictionary = {'C1' : [10,20,30],\n",
    "              'C2' : [20,30,40]}\n",
    "\n",
    "dictionary['C1'] = [ dictionary['C1'][0]**2 , dictionary['C1'][1]**2, dictionary['C1'][2]**2]\n",
    "dictionary['C2'] = [ dictionary['C2'][0]**2 , dictionary['C2'][1]**2, dictionary['C2'][2]**2]\n"
   ]
  },
  {
   "cell_type": "code",
   "execution_count": 46,
   "metadata": {},
   "outputs": [
    {
     "name": "stdout",
     "output_type": "stream",
     "text": [
      "{'C1': [100, 400, 900], 'C2': [400, 900, 1600]}\n"
     ]
    }
   ],
   "source": [
    "print(dictionary)"
   ]
  },
  {
   "cell_type": "markdown",
   "metadata": {},
   "source": [
    "# <font color='blue'>  8. CREATE A LIST OF ALL KEYS AND A LIST OF ALL VALUES AND THE TOTAL SUM OF ALL VALUES "
   ]
  },
  {
   "cell_type": "code",
   "execution_count": 77,
   "metadata": {},
   "outputs": [],
   "source": [
    "my_salary = {\"alex\": 25, \"sally\": 28, \"dina\": 30}\n",
    "\n",
    "names = list(my_salary.keys())\n",
    "salaries = list(my_salary.values())"
   ]
  },
  {
   "cell_type": "code",
   "execution_count": 78,
   "metadata": {},
   "outputs": [
    {
     "data": {
      "text/plain": [
       "[25, 28, 30]"
      ]
     },
     "execution_count": 78,
     "metadata": {},
     "output_type": "execute_result"
    }
   ],
   "source": [
    "salaries"
   ]
  },
  {
   "cell_type": "code",
   "execution_count": 79,
   "metadata": {},
   "outputs": [
    {
     "data": {
      "text/plain": [
       "['alex', 'sally', 'dina']"
      ]
     },
     "execution_count": 79,
     "metadata": {},
     "output_type": "execute_result"
    }
   ],
   "source": [
    "names"
   ]
  },
  {
   "cell_type": "code",
   "execution_count": 80,
   "metadata": {},
   "outputs": [
    {
     "data": {
      "text/plain": [
       "dict_values([23, 22, 50, 10, 44])"
      ]
     },
     "execution_count": 80,
     "metadata": {},
     "output_type": "execute_result"
    }
   ],
   "source": [
    "my_dict.values()"
   ]
  },
  {
   "cell_type": "code",
   "execution_count": 81,
   "metadata": {},
   "outputs": [],
   "source": [
    "total_salaries = sum(my_salary.values())"
   ]
  },
  {
   "cell_type": "code",
   "execution_count": 82,
   "metadata": {},
   "outputs": [
    {
     "data": {
      "text/plain": [
       "83"
      ]
     },
     "execution_count": 82,
     "metadata": {},
     "output_type": "execute_result"
    }
   ],
   "source": [
    "total_salaries"
   ]
  },
  {
   "cell_type": "markdown",
   "metadata": {},
   "source": [
    "# <font color='blue'>  9. OBTAIN THE LENGTH OF THE FOLLOWING DICTIONARY AND SORT ITS ELEMENTS"
   ]
  },
  {
   "cell_type": "code",
   "execution_count": 72,
   "metadata": {},
   "outputs": [
    {
     "name": "stdout",
     "output_type": "stream",
     "text": [
      "5\n",
      "[10, 22, 23, 44, 50]\n"
     ]
    }
   ],
   "source": [
    "my_dict = {\"sally\": 23, \"dina\": 22, \"holy\": 50, \"Joe\": 10, \"Peter\": 44}\n",
    "\n",
    "print(len(my_dict.values()))\n",
    "\n",
    "print(sorted(my_dict.values()))"
   ]
  },
  {
   "cell_type": "markdown",
   "metadata": {},
   "source": [
    "# <font color='blue'> 10. FILTER OUT VALUES THAT ARE GREATER THAN OR EQUAL TO 30 (ADVANCED)(TO BE COVERED) </font> "
   ]
  },
  {
   "cell_type": "code",
   "execution_count": 92,
   "metadata": {},
   "outputs": [
    {
     "name": "stdout",
     "output_type": "stream",
     "text": [
      "{'Key 1': 20, 'Key 2': 30}\n"
     ]
    }
   ],
   "source": [
    "my_dictionary = {\"Key 1\": 20, \"Key 2\": 30, \"Key 3\": 50}\n",
    "\n",
    "result = dict((key, value) for key, value in my_dictionary.items() if value <= 30)\n",
    "print(result)\n"
   ]
  },
  {
   "cell_type": "markdown",
   "metadata": {},
   "source": [
    "# <font color='blue'> 11. WHAT WILL THIS CODE GENERATE? </font> "
   ]
  },
  {
   "cell_type": "code",
   "execution_count": null,
   "metadata": {},
   "outputs": [],
   "source": [
    "x = 10\n",
    "y = 20\n",
    "print(x>y)\n",
    "print(x<y)\n",
    "print(x==y)\n",
    "print(x!=y)\n"
   ]
  },
  {
   "cell_type": "markdown",
   "metadata": {},
   "source": [
    "# NOW YOU SHOULD BE FAMILIAR WITH DICTIONARIES, GREAT JOB!"
   ]
  }
 ],
 "metadata": {
  "kernelspec": {
   "display_name": "Python 3",
   "language": "python",
   "name": "python3"
  },
  "language_info": {
   "codemirror_mode": {
    "name": "ipython",
    "version": 3
   },
   "file_extension": ".py",
   "mimetype": "text/x-python",
   "name": "python",
   "nbconvert_exporter": "python",
   "pygments_lexer": "ipython3",
   "version": "3.6.5"
  }
 },
 "nbformat": 4,
 "nbformat_minor": 2
}
