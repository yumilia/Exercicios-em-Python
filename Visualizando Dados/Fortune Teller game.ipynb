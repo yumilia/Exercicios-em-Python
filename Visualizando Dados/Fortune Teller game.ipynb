{
 "cells": [
  {
   "cell_type": "markdown",
   "metadata": {},
   "source": [
    "## Fortune Teller Game"
   ]
  },
  {
   "cell_type": "markdown",
   "metadata": {},
   "source": [
    "# Fortune Teller in Python"
   ]
  },
  {
   "cell_type": "code",
   "execution_count": 2,
   "metadata": {},
   "outputs": [
    {
     "name": "stdout",
     "output_type": "stream",
     "text": [
      "Welcome to the Fortune Teller!\n",
      "You will select a color and a number and I will tell you what the future holds for you!\n"
     ]
    }
   ],
   "source": [
    "import random\n",
    "\n",
    "answer = 'y'\n",
    "\n",
    "print('Welcome to the Fortune Teller!')\n",
    "print('You will select a color and a number and I will tell you what the future holds for you!')\n"
   ]
  },
  {
   "cell_type": "code",
   "execution_count": 3,
   "metadata": {},
   "outputs": [
    {
     "name": "stdout",
     "output_type": "stream",
     "text": [
      "Select a colour [yellow, green, blue, red] red\n",
      "Select a number [3, 4, 7, 8]7\n",
      "All your dreams will come true, just be patient!\n",
      "Play again? insert 'y' for YES or 'n' for NOy\n",
      "Select a colour [yellow, green, blue, red] blue\n",
      "Select a number [3, 4, 7, 8]8\n",
      "You're lucky, You will have it all one day!\n",
      "Play again? insert 'y' for YES or 'n' for NOy\n",
      "Select a colour [yellow, green, blue, red] violet\n",
      "Colors [yellow, green, blue, red] are only allowed\n",
      "Play again? insert 'y' for YES or 'n' for NOy\n",
      "Select a colour [yellow, green, blue, red] green\n",
      "Select a number [1, 2, 5, 6]3\n",
      "Numbers 1, 2, 5, 6 are the only numbers allowed\n",
      "Play again? insert 'y' for YES or 'n' for NOn\n"
     ]
    }
   ],
   "source": [
    "\n",
    "while answer == 'y':\n",
    "    \n",
    "    color = input(\"Select a colour [yellow, green, blue, red] \")\n",
    "        \n",
    "    if color == \"yellow\" or color ==\"green\":\n",
    "        number = int(input(\"Select a number [1, 2, 5, 6]\"))\n",
    "        if number == 1:\n",
    "              print(\"Worried about your future career? Don't worry. You'll 100% get what you want, be patient!\")\n",
    "        elif number == 2:\n",
    "              print(\"You will become a millionaire at the age of 35!\")\n",
    "        elif number == 5:\n",
    "              print(\"You will have a great family with 10 kids!\")\n",
    "        elif number == 6:\n",
    "              print(\"You will become famous and everyone will love you!\")\n",
    "        else:\n",
    "              print(\"Numbers 1, 2, 5, 6 are the only numbers allowed\")\n",
    "    \n",
    "    elif color == \"blue\" or color == \"red\":\n",
    "        number = int(input(\"Select a number [3, 4, 7, 8]\"))\n",
    "        if number == 3:\n",
    "              print(\"You will live a happy life for 100 years at least!\")\n",
    "        elif number == 4:\n",
    "              print(\"You will become a successful doctor one day!\")\n",
    "        elif number == 7:\n",
    "              print(\"All your dreams will come true, just be patient!\")\n",
    "        elif number == 8:\n",
    "              print(\"You're lucky, You will have it all one day!\")\n",
    "        else:\n",
    "              print(\"Numbers 3, 4, 7, 8 are the only numbers allowed\")\n",
    "    else:\n",
    "        print(\"Colors [yellow, green, blue, red] are only allowed\")\n",
    "    \n",
    "    answer = input(\"Play again? insert 'y' for YES or 'n' for NO\")\n"
   ]
  },
  {
   "cell_type": "code",
   "execution_count": null,
   "metadata": {},
   "outputs": [],
   "source": []
  }
 ],
 "metadata": {
  "kernelspec": {
   "display_name": "Python 3",
   "language": "python",
   "name": "python3"
  },
  "language_info": {
   "codemirror_mode": {
    "name": "ipython",
    "version": 3
   },
   "file_extension": ".py",
   "mimetype": "text/x-python",
   "name": "python",
   "nbconvert_exporter": "python",
   "pygments_lexer": "ipython3",
   "version": "3.7.4"
  }
 },
 "nbformat": 4,
 "nbformat_minor": 2
}
