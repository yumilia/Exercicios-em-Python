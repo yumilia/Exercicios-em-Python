{
 "cells": [
  {
   "cell_type": "markdown",
   "metadata": {},
   "source": [
    "## Create a Guessing Game"
   ]
  },
  {
   "cell_type": "code",
   "execution_count": 1,
   "metadata": {},
   "outputs": [],
   "source": [
    "import random"
   ]
  },
  {
   "cell_type": "code",
   "execution_count": 8,
   "metadata": {},
   "outputs": [],
   "source": [
    "true_number = random.randint(1, 49)"
   ]
  },
  {
   "cell_type": "code",
   "execution_count": 9,
   "metadata": {},
   "outputs": [
    {
     "data": {
      "text/plain": [
       "44"
      ]
     },
     "execution_count": 9,
     "metadata": {},
     "output_type": "execute_result"
    }
   ],
   "source": [
    "true_number"
   ]
  },
  {
   "cell_type": "code",
   "execution_count": 10,
   "metadata": {},
   "outputs": [
    {
     "name": "stdout",
     "output_type": "stream",
     "text": [
      "Enter your guess between 1 and 49: 30\n"
     ]
    }
   ],
   "source": [
    "guess_number = int(input(\"Enter your guess between 1 and 49: \"))\n"
   ]
  },
  {
   "cell_type": "code",
   "execution_count": 11,
   "metadata": {},
   "outputs": [
    {
     "data": {
      "text/plain": [
       "30"
      ]
     },
     "execution_count": 11,
     "metadata": {},
     "output_type": "execute_result"
    }
   ],
   "source": [
    "guess_number"
   ]
  },
  {
   "cell_type": "code",
   "execution_count": 12,
   "metadata": {},
   "outputs": [
    {
     "name": "stdout",
     "output_type": "stream",
     "text": [
      "YOUR GUESS IS LOW, TRY AGAIN\n",
      "Enter your guess between 1 and 49: 35\n",
      "YOUR GUESS IS LOW, TRY AGAIN\n",
      "Enter your guess between 1 and 49: 40\n",
      "YOUR GUESS IS LOW, TRY AGAIN\n",
      "Enter your guess between 1 and 49: 43\n",
      "YOUR GUESS IS LOW, TRY AGAIN\n",
      "Enter your guess between 1 and 49: 44\n",
      "YOU ARE RIGHT! GOOD JOB!\n"
     ]
    }
   ],
   "source": [
    "while True:\n",
    "    if guess_number == true_number:\n",
    "        print('YOU ARE RIGHT! GOOD JOB!')\n",
    "        break\n",
    "    \n",
    "    elif guess_number < true_number:\n",
    "        print('YOUR GUESS IS LOW, TRY AGAIN')\n",
    "        guess_number = int(input(\"Enter your guess between 1 and 49: \"))\n",
    "              \n",
    "    elif guess_number > true_number:\n",
    "        print('YOUR GUESS IS HIGH, TRY AGAIN')\n",
    "        guess_number = int(input(\"Enter an integer from 1 and 49: \"))\n",
    "  "
   ]
  },
  {
   "cell_type": "code",
   "execution_count": null,
   "metadata": {},
   "outputs": [],
   "source": []
  }
 ],
 "metadata": {
  "kernelspec": {
   "display_name": "Python 3",
   "language": "python",
   "name": "python3"
  },
  "language_info": {
   "codemirror_mode": {
    "name": "ipython",
    "version": 3
   },
   "file_extension": ".py",
   "mimetype": "text/x-python",
   "name": "python",
   "nbconvert_exporter": "python",
   "pygments_lexer": "ipython3",
   "version": "3.7.4"
  }
 },
 "nbformat": 4,
 "nbformat_minor": 2
}
