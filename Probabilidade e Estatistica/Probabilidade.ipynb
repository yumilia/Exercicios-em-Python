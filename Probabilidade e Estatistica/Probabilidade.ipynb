{
  "nbformat": 4,
  "nbformat_minor": 0,
  "metadata": {
    "colab": {
      "name": "Probabilidade.ipynb",
      "provenance": []
    },
    "kernelspec": {
      "name": "python3",
      "display_name": "Python 3"
    }
  },
  "cells": [
    {
      "cell_type": "markdown",
      "metadata": {
        "id": "WnG17bPMPsXC"
      },
      "source": [
        "# Probabilidade"
      ]
    },
    {
      "cell_type": "markdown",
      "metadata": {
        "id": "VN2wxPVyi4pa"
      },
      "source": [
        "## Importações"
      ]
    },
    {
      "cell_type": "code",
      "metadata": {
        "id": "5mU_frgSdSPB"
      },
      "source": [
        "import numpy as np\n",
        "from scipy import stats\n",
        "import seaborn as sns"
      ],
      "execution_count": null,
      "outputs": []
    },
    {
      "cell_type": "markdown",
      "metadata": {
        "id": "AEJmt2ixPusB"
      },
      "source": [
        "## Permutação"
      ]
    },
    {
      "cell_type": "code",
      "metadata": {
        "id": "EiJUzpLA2eSJ"
      },
      "source": [
        "import math"
      ],
      "execution_count": null,
      "outputs": []
    },
    {
      "cell_type": "code",
      "metadata": {
        "id": "jr0Yxwkw2gh8",
        "colab": {
          "base_uri": "https://localhost:8080/",
          "height": 55
        },
        "outputId": "4155c4e9-7578-4467-8113-384a1cacfde6"
      },
      "source": [
        "math.factorial(3)"
      ],
      "execution_count": null,
      "outputs": [
        {
          "output_type": "execute_result",
          "data": {
            "text/plain": [
              "6"
            ]
          },
          "metadata": {
            "tags": []
          },
          "execution_count": 4
        }
      ]
    },
    {
      "cell_type": "code",
      "metadata": {
        "id": "6c3VT4oo3Gzw",
        "colab": {
          "base_uri": "https://localhost:8080/",
          "height": 55
        },
        "outputId": "1dfab60b-d21a-4731-82e9-a19658318c33"
      },
      "source": [
        "math.factorial(36) / math.factorial(36 - 5)"
      ],
      "execution_count": null,
      "outputs": [
        {
          "output_type": "execute_result",
          "data": {
            "text/plain": [
              "45239040.0"
            ]
          },
          "metadata": {
            "tags": []
          },
          "execution_count": 5
        }
      ]
    },
    {
      "cell_type": "code",
      "metadata": {
        "id": "C0zvm5se3mSr",
        "colab": {
          "base_uri": "https://localhost:8080/",
          "height": 55
        },
        "outputId": "f4757dee-5d2f-4f82-fee5-25708051c15f"
      },
      "source": [
        "math.pow(36, 5)"
      ],
      "execution_count": null,
      "outputs": [
        {
          "output_type": "execute_result",
          "data": {
            "text/plain": [
              "60466176.0"
            ]
          },
          "metadata": {
            "tags": []
          },
          "execution_count": 6
        }
      ]
    },
    {
      "cell_type": "markdown",
      "metadata": {
        "id": "QDizneKGSQ7_"
      },
      "source": [
        "## Combinação"
      ]
    },
    {
      "cell_type": "code",
      "metadata": {
        "id": "_5-w97Gm4fW3",
        "colab": {
          "base_uri": "https://localhost:8080/",
          "height": 55
        },
        "outputId": "d6927c25-6dbc-434f-d856-53446e1b67bc"
      },
      "source": [
        "math.factorial(6) / (math.factorial(2) * math.factorial(6 - 2))"
      ],
      "execution_count": null,
      "outputs": [
        {
          "output_type": "execute_result",
          "data": {
            "text/plain": [
              "15.0"
            ]
          },
          "metadata": {
            "tags": []
          },
          "execution_count": 7
        }
      ]
    },
    {
      "cell_type": "code",
      "metadata": {
        "id": "hEDn2lJr4081",
        "colab": {
          "base_uri": "https://localhost:8080/",
          "height": 55
        },
        "outputId": "42ee72e8-e893-4257-f165-47e09208950b"
      },
      "source": [
        "math.factorial(6 + 2 - 1) / (math.factorial(2) * math.factorial(6 - 2))"
      ],
      "execution_count": null,
      "outputs": [
        {
          "output_type": "execute_result",
          "data": {
            "text/plain": [
              "105.0"
            ]
          },
          "metadata": {
            "tags": []
          },
          "execution_count": 8
        }
      ]
    },
    {
      "cell_type": "markdown",
      "metadata": {
        "id": "rjzVj9LMwpKI"
      },
      "source": [
        "## Interseção, união e diferença"
      ]
    },
    {
      "cell_type": "code",
      "metadata": {
        "id": "fSWGvSI86l9h"
      },
      "source": [
        "a = (0,1,2,3,4,5,6,7)\n",
        "b = (0,2,4,6,8)"
      ],
      "execution_count": null,
      "outputs": []
    },
    {
      "cell_type": "markdown",
      "metadata": {
        "id": "PVq0TArlw6kl"
      },
      "source": [
        "### Interseção"
      ]
    },
    {
      "cell_type": "code",
      "metadata": {
        "id": "WR1fr61E6ubA",
        "colab": {
          "base_uri": "https://localhost:8080/",
          "height": 55
        },
        "outputId": "8cf6deef-9c2d-48fc-a8b6-405818fc5390"
      },
      "source": [
        "set(a) and set(b)"
      ],
      "execution_count": null,
      "outputs": [
        {
          "output_type": "execute_result",
          "data": {
            "text/plain": [
              "{0, 2, 4, 6, 8}"
            ]
          },
          "metadata": {
            "tags": []
          },
          "execution_count": 11
        }
      ]
    },
    {
      "cell_type": "markdown",
      "metadata": {
        "id": "gmBXJGnRxWq3"
      },
      "source": [
        "### União"
      ]
    },
    {
      "cell_type": "code",
      "metadata": {
        "id": "VND-Ok7V63Gl",
        "colab": {
          "base_uri": "https://localhost:8080/",
          "height": 55
        },
        "outputId": "c994c210-0e18-4ebe-e764-3910ec540a2c"
      },
      "source": [
        "set(a) | set(b)"
      ],
      "execution_count": null,
      "outputs": [
        {
          "output_type": "execute_result",
          "data": {
            "text/plain": [
              "{0, 1, 2, 3, 4, 5, 6, 7, 8}"
            ]
          },
          "metadata": {
            "tags": []
          },
          "execution_count": 14
        }
      ]
    },
    {
      "cell_type": "markdown",
      "metadata": {
        "id": "w2WYy99Vxcif"
      },
      "source": [
        "### Diferença"
      ]
    },
    {
      "cell_type": "code",
      "metadata": {
        "id": "4T6hS4YE6_6h",
        "colab": {
          "base_uri": "https://localhost:8080/",
          "height": 55
        },
        "outputId": "0b077241-77a3-480c-fbb2-dfbb846adbb0"
      },
      "source": [
        "set(a).difference(set(b))"
      ],
      "execution_count": null,
      "outputs": [
        {
          "output_type": "execute_result",
          "data": {
            "text/plain": [
              "{1, 3, 5, 7}"
            ]
          },
          "metadata": {
            "tags": []
          },
          "execution_count": 15
        }
      ]
    },
    {
      "cell_type": "code",
      "metadata": {
        "id": "imQUwyi07INs",
        "colab": {
          "base_uri": "https://localhost:8080/",
          "height": 55
        },
        "outputId": "b1c1b522-93b7-42b4-a53c-1b66a9fe4471"
      },
      "source": [
        "set(b).difference(set(a))"
      ],
      "execution_count": null,
      "outputs": [
        {
          "output_type": "execute_result",
          "data": {
            "text/plain": [
              "{8}"
            ]
          },
          "metadata": {
            "tags": []
          },
          "execution_count": 16
        }
      ]
    },
    {
      "cell_type": "markdown",
      "metadata": {
        "id": "41Peje9kdJya"
      },
      "source": [
        "## Probabilidade e distribuição normal\n",
        "\n",
        "- https://docs.scipy.org/doc/scipy/reference/generated/scipy.stats.norm.html"
      ]
    },
    {
      "cell_type": "code",
      "metadata": {
        "id": "ETnewxE8dMkE"
      },
      "source": [
        "dados = np.array([126. , 129.5, 133. , 133. , 136.5, 136.5, 140. , 140. , 140. ,\n",
        "                  140. , 143.5, 143.5, 143.5, 143.5, 143.5, 143.5, 147. , 147. ,\n",
        "                  147. , 147. , 147. , 147. , 147. , 150.5, 150.5, 150.5, 150.5,\n",
        "                  150.5, 150.5, 150.5, 150.5, 154. , 154. , 154. , 154. , 154. ,\n",
        "                  154. , 154. , 154. , 154. , 157.5, 157.5, 157.5, 157.5, 157.5,\n",
        "                  157.5, 157.5, 157.5, 157.5, 157.5, 161. , 161. , 161. , 161. ,\n",
        "                  161. , 161. , 161. , 161. , 161. , 161. , 164.5, 164.5, 164.5,\n",
        "                  164.5, 164.5, 164.5, 164.5, 164.5, 164.5, 168. , 168. , 168. ,\n",
        "                  168. , 168. , 168. , 168. , 168. , 171.5, 171.5, 171.5, 171.5,\n",
        "                  171.5, 171.5, 171.5, 175. , 175. , 175. , 175. , 175. , 175. ,\n",
        "                  178.5, 178.5, 178.5, 178.5, 182. , 182. , 185.5, 185.5, 189., 192.5])"
      ],
      "execution_count": null,
      "outputs": []
    },
    {
      "cell_type": "code",
      "metadata": {
        "id": "7XxtDthfHm8Q",
        "colab": {
          "base_uri": "https://localhost:8080/",
          "height": 285
        },
        "outputId": "90ce98d8-f1bf-4b6d-8eff-d66e941ded5e"
      },
      "source": [
        "sns.distplot(dados);"
      ],
      "execution_count": null,
      "outputs": [
        {
          "output_type": "display_data",
          "data": {
            "image/png": "[encoded data removed]",
            "text/plain": [
              "<Figure size 432x288 with 1 Axes>"
            ]
          },
          "metadata": {
            "tags": [],
            "needs_background": "light"
          }
        }
      ]
    },
    {
      "cell_type": "code",
      "metadata": {
        "id": "rCcV31SsH9ak",
        "colab": {
          "base_uri": "https://localhost:8080/",
          "height": 55
        },
        "outputId": "c566d7e3-b1b0-4e75-ba3d-b015563f298a"
      },
      "source": [
        "media = np.mean(dados)\n",
        "desvio_padrao = np.std(dados)\n",
        "media, desvio_padrao"
      ],
      "execution_count": null,
      "outputs": [
        {
          "output_type": "execute_result",
          "data": {
            "text/plain": [
              "(159.25, 13.65)"
            ]
          },
          "metadata": {
            "tags": []
          },
          "execution_count": 19
        }
      ]
    },
    {
      "cell_type": "code",
      "metadata": {
        "id": "GjYpLIT_IKHI",
        "colab": {
          "base_uri": "https://localhost:8080/",
          "height": 55
        },
        "outputId": "ee09c087-3f3c-40c5-f70d-5ea77ef09eda"
      },
      "source": [
        "np.quantile(dados, [0.25, 0.50, 0.75])"
      ],
      "execution_count": null,
      "outputs": [
        {
          "output_type": "execute_result",
          "data": {
            "text/plain": [
              "array([150.5 , 159.25, 168.  ])"
            ]
          },
          "metadata": {
            "tags": []
          },
          "execution_count": 20
        }
      ]
    },
    {
      "cell_type": "markdown",
      "metadata": {
        "id": "CKW7Fregd1LF"
      },
      "source": [
        "### Calcular a probabilidade de selecionar uma pessoa em Q1"
      ]
    },
    {
      "cell_type": "code",
      "metadata": {
        "id": "JMVXF36PIesF",
        "colab": {
          "base_uri": "https://localhost:8080/",
          "height": 55
        },
        "outputId": "f1ddb1cd-11a3-4ec6-c687-ac1b7c7552bb"
      },
      "source": [
        "(150.5 - media) / desvio_padrao"
      ],
      "execution_count": null,
      "outputs": [
        {
          "output_type": "execute_result",
          "data": {
            "text/plain": [
              "-0.641025641025641"
            ]
          },
          "metadata": {
            "tags": []
          },
          "execution_count": 21
        }
      ]
    },
    {
      "cell_type": "code",
      "metadata": {
        "id": "smcLpds6JeHZ"
      },
      "source": [
        "0.26109"
      ],
      "execution_count": null,
      "outputs": []
    },
    {
      "cell_type": "code",
      "metadata": {
        "id": "HOAbK1rTMzfM",
        "colab": {
          "base_uri": "https://localhost:8080/",
          "height": 55
        },
        "outputId": "7d5f95a3-7068-4cc0-88d1-a4275292edfe"
      },
      "source": [
        "stats.norm.cdf(150.5, media, desvio_padrao)"
      ],
      "execution_count": null,
      "outputs": [
        {
          "output_type": "execute_result",
          "data": {
            "text/plain": [
              "0.26075301195608336"
            ]
          },
          "metadata": {
            "tags": []
          },
          "execution_count": 30
        }
      ]
    },
    {
      "cell_type": "markdown",
      "metadata": {
        "id": "sOBWHav0f4XF"
      },
      "source": [
        "### Calcular a probabilidade de selecionar uma pessoa em Q3"
      ]
    },
    {
      "cell_type": "code",
      "metadata": {
        "id": "evKG6H16Jv_b",
        "colab": {
          "base_uri": "https://localhost:8080/",
          "height": 55
        },
        "outputId": "2f2bd53c-7972-45df-91e3-4dd1a5e0b65c"
      },
      "source": [
        "(168 - media) / desvio_padrao"
      ],
      "execution_count": null,
      "outputs": [
        {
          "output_type": "execute_result",
          "data": {
            "text/plain": [
              "0.641025641025641"
            ]
          },
          "metadata": {
            "tags": []
          },
          "execution_count": 22
        }
      ]
    },
    {
      "cell_type": "code",
      "metadata": {
        "id": "gMQfz_z_J90U"
      },
      "source": [
        "0.73891"
      ],
      "execution_count": null,
      "outputs": []
    },
    {
      "cell_type": "code",
      "metadata": {
        "id": "29t5vE_LKHq3",
        "colab": {
          "base_uri": "https://localhost:8080/",
          "height": 55
        },
        "outputId": "8dbbe9f6-7423-4e6d-f52e-d7d17f4ca31e"
      },
      "source": [
        "1 - 0.73891"
      ],
      "execution_count": null,
      "outputs": [
        {
          "output_type": "execute_result",
          "data": {
            "text/plain": [
              "0.26109000000000004"
            ]
          },
          "metadata": {
            "tags": []
          },
          "execution_count": 23
        }
      ]
    },
    {
      "cell_type": "code",
      "metadata": {
        "id": "XDUJF8WZNE-9",
        "colab": {
          "base_uri": "https://localhost:8080/",
          "height": 55
        },
        "outputId": "93c7118d-8aba-4379-c04c-89139f41beca"
      },
      "source": [
        "1 - stats.norm.cdf(168, media, desvio_padrao)"
      ],
      "execution_count": null,
      "outputs": [
        {
          "output_type": "execute_result",
          "data": {
            "text/plain": [
              "0.26075301195608336"
            ]
          },
          "metadata": {
            "tags": []
          },
          "execution_count": 32
        }
      ]
    },
    {
      "cell_type": "code",
      "metadata": {
        "id": "yGR4hjW3NT_D",
        "colab": {
          "base_uri": "https://localhost:8080/",
          "height": 55
        },
        "outputId": "41dace31-16c3-4078-ee53-e8f29a455cca"
      },
      "source": [
        "stats.norm.sf(168, media, desvio_padrao)"
      ],
      "execution_count": null,
      "outputs": [
        {
          "output_type": "execute_result",
          "data": {
            "text/plain": [
              "0.26075301195608336"
            ]
          },
          "metadata": {
            "tags": []
          },
          "execution_count": 33
        }
      ]
    },
    {
      "cell_type": "markdown",
      "metadata": {
        "id": "-kqXB3cghQ14"
      },
      "source": [
        "### Calcular a probabilidade de selecionar uma pessoa entre Q2 e Q3"
      ]
    },
    {
      "cell_type": "code",
      "metadata": {
        "id": "GhkqaAeBKj49",
        "colab": {
          "base_uri": "https://localhost:8080/",
          "height": 55
        },
        "outputId": "c5626ed7-729f-4047-c379-0a96d394a014"
      },
      "source": [
        "(168 - media) / desvio_padrao"
      ],
      "execution_count": null,
      "outputs": [
        {
          "output_type": "execute_result",
          "data": {
            "text/plain": [
              "0.641025641025641"
            ]
          },
          "metadata": {
            "tags": []
          },
          "execution_count": 24
        }
      ]
    },
    {
      "cell_type": "code",
      "metadata": {
        "id": "8rSvAyHAKpB_"
      },
      "source": [
        "0.73891"
      ],
      "execution_count": null,
      "outputs": []
    },
    {
      "cell_type": "code",
      "metadata": {
        "id": "pbG2m85IK5sD",
        "colab": {
          "base_uri": "https://localhost:8080/",
          "height": 55
        },
        "outputId": "ec4e43fb-28d9-452a-bbe4-fe115dd7cf77"
      },
      "source": [
        "(159.25 - media) / desvio_padrao"
      ],
      "execution_count": null,
      "outputs": [
        {
          "output_type": "execute_result",
          "data": {
            "text/plain": [
              "0.0"
            ]
          },
          "metadata": {
            "tags": []
          },
          "execution_count": 25
        }
      ]
    },
    {
      "cell_type": "code",
      "metadata": {
        "id": "VMk86rJXLE1l"
      },
      "source": [
        "0.50"
      ],
      "execution_count": null,
      "outputs": []
    },
    {
      "cell_type": "code",
      "metadata": {
        "id": "5D62QVdQLMIg",
        "colab": {
          "base_uri": "https://localhost:8080/",
          "height": 55
        },
        "outputId": "77b75652-489e-4ce3-e38c-d97532997beb"
      },
      "source": [
        "0.73891 - 0.50"
      ],
      "execution_count": null,
      "outputs": [
        {
          "output_type": "execute_result",
          "data": {
            "text/plain": [
              "0.23890999999999996"
            ]
          },
          "metadata": {
            "tags": []
          },
          "execution_count": 26
        }
      ]
    },
    {
      "cell_type": "code",
      "metadata": {
        "id": "sptRhEPvNm0t",
        "colab": {
          "base_uri": "https://localhost:8080/",
          "height": 55
        },
        "outputId": "662a8167-9976-49b4-af9f-fe773e40d6b6"
      },
      "source": [
        "stats.norm.cdf(168, media, desvio_padrao)"
      ],
      "execution_count": null,
      "outputs": [
        {
          "output_type": "execute_result",
          "data": {
            "text/plain": [
              "0.7392469880439166"
            ]
          },
          "metadata": {
            "tags": []
          },
          "execution_count": 34
        }
      ]
    },
    {
      "cell_type": "code",
      "metadata": {
        "id": "9K0DxKjKNsph",
        "colab": {
          "base_uri": "https://localhost:8080/",
          "height": 55
        },
        "outputId": "47472b9b-1404-4a1a-da45-6c9b982b6dbb"
      },
      "source": [
        "stats.norm.cdf(159.25, media, desvio_padrao)"
      ],
      "execution_count": null,
      "outputs": [
        {
          "output_type": "execute_result",
          "data": {
            "text/plain": [
              "0.5"
            ]
          },
          "metadata": {
            "tags": []
          },
          "execution_count": 35
        }
      ]
    },
    {
      "cell_type": "code",
      "metadata": {
        "id": "tBicSKquNyMl",
        "colab": {
          "base_uri": "https://localhost:8080/",
          "height": 55
        },
        "outputId": "e98600c6-a95a-47d4-ca98-41dcc6f0faf9"
      },
      "source": [
        "stats.norm.cdf(168, media, desvio_padrao) - stats.norm.cdf(159.25, media, desvio_padrao)"
      ],
      "execution_count": null,
      "outputs": [
        {
          "output_type": "execute_result",
          "data": {
            "text/plain": [
              "0.23924698804391664"
            ]
          },
          "metadata": {
            "tags": []
          },
          "execution_count": 36
        }
      ]
    },
    {
      "cell_type": "markdown",
      "metadata": {
        "id": "HRvvngMAofQi"
      },
      "source": [
        "### Calcular a probabilidade de selecionar uma pessoa em Q1 ou Q3"
      ]
    },
    {
      "cell_type": "code",
      "metadata": {
        "id": "UC-j2gwvLbEK",
        "colab": {
          "base_uri": "https://localhost:8080/",
          "height": 55
        },
        "outputId": "ec116e31-f16d-4d42-ae52-8e85f2e60011"
      },
      "source": [
        "0.26109 + 0.26109"
      ],
      "execution_count": null,
      "outputs": [
        {
          "output_type": "execute_result",
          "data": {
            "text/plain": [
              "0.52218"
            ]
          },
          "metadata": {
            "tags": []
          },
          "execution_count": 27
        }
      ]
    },
    {
      "cell_type": "markdown",
      "metadata": {
        "id": "gY73bwJcpquV"
      },
      "source": [
        "### Calcular a probabilidade de não selecionar uma pessoa em Q1 ou Q3"
      ]
    },
    {
      "cell_type": "code",
      "metadata": {
        "id": "6amHRxSZLuer",
        "colab": {
          "base_uri": "https://localhost:8080/",
          "height": 55
        },
        "outputId": "ad59813e-f760-426b-a666-547d1bdebd94"
      },
      "source": [
        "1 - 0.52218"
      ],
      "execution_count": null,
      "outputs": [
        {
          "output_type": "execute_result",
          "data": {
            "text/plain": [
              "0.47782"
            ]
          },
          "metadata": {
            "tags": []
          },
          "execution_count": 28
        }
      ]
    },
    {
      "cell_type": "markdown",
      "metadata": {
        "id": "mxblw-KwtijT"
      },
      "source": [
        "### Exercício 1\n",
        "\n",
        "- Uma empresa fez um concurso para seleção de novos funcionários. A prova tinha 50 questões e o Pedro acertou 40 questões. Considerando uma distribuição normal com média 24 e desvio padrão de 8, quais são as chances dele ser contratado?"
      ]
    },
    {
      "cell_type": "code",
      "metadata": {
        "id": "ySddRz-0t8Yq"
      },
      "source": [
        "X = 40\n",
        "media = 24\n",
        "desvio_padrao = 8"
      ],
      "execution_count": null,
      "outputs": []
    },
    {
      "cell_type": "code",
      "metadata": {
        "id": "ATev0QZquDe9",
        "colab": {
          "base_uri": "https://localhost:8080/",
          "height": 55
        },
        "outputId": "baf8c772-3723-4053-9f5e-2839ddbb1c8d"
      },
      "source": [
        "padronizado = (X - media) / desvio_padrao\n",
        "padronizado"
      ],
      "execution_count": null,
      "outputs": [
        {
          "output_type": "execute_result",
          "data": {
            "text/plain": [
              "2.0"
            ]
          },
          "metadata": {
            "tags": []
          },
          "execution_count": 64
        }
      ]
    },
    {
      "cell_type": "code",
      "metadata": {
        "id": "ImGJvr5suPX-"
      },
      "source": [
        "0.97725"
      ],
      "execution_count": null,
      "outputs": []
    },
    {
      "cell_type": "code",
      "metadata": {
        "id": "cM8z6NMZuqXT",
        "colab": {
          "base_uri": "https://localhost:8080/",
          "height": 55
        },
        "outputId": "b898a5f0-9051-4519-bb10-b8505fe8724f"
      },
      "source": [
        "stats.norm.cdf(1.68)"
      ],
      "execution_count": null,
      "outputs": [
        {
          "output_type": "execute_result",
          "data": {
            "text/plain": [
              "0.9535213421362799"
            ]
          },
          "metadata": {
            "tags": []
          },
          "execution_count": 66
        }
      ]
    },
    {
      "cell_type": "code",
      "metadata": {
        "id": "Ke5RlnKjuyGq",
        "colab": {
          "base_uri": "https://localhost:8080/",
          "height": 55
        },
        "outputId": "0c61f69b-2307-4031-b59d-91859d840f3d"
      },
      "source": [
        "stats.norm.ppf(0.9535213421362799)"
      ],
      "execution_count": null,
      "outputs": [
        {
          "output_type": "execute_result",
          "data": {
            "text/plain": [
              "1.68"
            ]
          },
          "metadata": {
            "tags": []
          },
          "execution_count": 42
        }
      ]
    },
    {
      "cell_type": "code",
      "metadata": {
        "id": "KhsYaoCDuQ5Q",
        "colab": {
          "base_uri": "https://localhost:8080/",
          "height": 55
        },
        "outputId": "68dae918-71d2-4038-f4a1-30e419acfa75"
      },
      "source": [
        "stats.norm.cdf(X, media, desvio_padrao)"
      ],
      "execution_count": null,
      "outputs": [
        {
          "output_type": "execute_result",
          "data": {
            "text/plain": [
              "0.9772498680518208"
            ]
          },
          "metadata": {
            "tags": []
          },
          "execution_count": 43
        }
      ]
    },
    {
      "cell_type": "markdown",
      "metadata": {
        "id": "lDooGDk_u9te"
      },
      "source": [
        "### Exercício 2\n",
        "\n",
        "- A vida útil de uma marca de pneus é representada por uma distribuição normal com média de 38.000 Km e desvio padrão de 3.000 Km\n",
        "\n",
        "1.   Qual a probabilidade de que um pneu escolhido aleatoriamente tenha vida útil de 35.000 Km?\n",
        "2.   Qual a probabilidade de que ele dure mais do que 44.000 Km?\n",
        "\n"
      ]
    },
    {
      "cell_type": "markdown",
      "metadata": {
        "id": "tycsxFW4wEW9"
      },
      "source": [
        "#### Questão 1"
      ]
    },
    {
      "cell_type": "code",
      "metadata": {
        "id": "3xXfVFimvb9P",
        "colab": {
          "base_uri": "https://localhost:8080/",
          "height": 55
        },
        "outputId": "2087675f-97d6-4222-c4fd-dc674ea60691"
      },
      "source": [
        "1 - stats.norm.cdf(35000, 38000, 3000)"
      ],
      "execution_count": null,
      "outputs": [
        {
          "output_type": "execute_result",
          "data": {
            "text/plain": [
              "0.8413447460685429"
            ]
          },
          "metadata": {
            "tags": []
          },
          "execution_count": 45
        }
      ]
    },
    {
      "cell_type": "code",
      "metadata": {
        "id": "d9boMMEmv5cy",
        "colab": {
          "base_uri": "https://localhost:8080/",
          "height": 55
        },
        "outputId": "79378013-f1b3-43d0-b62b-fc06000ccfa5"
      },
      "source": [
        "stats.norm.sf(35000, 38000, 3000)"
      ],
      "execution_count": null,
      "outputs": [
        {
          "output_type": "execute_result",
          "data": {
            "text/plain": [
              "0.8413447460685429"
            ]
          },
          "metadata": {
            "tags": []
          },
          "execution_count": 46
        }
      ]
    },
    {
      "cell_type": "markdown",
      "metadata": {
        "id": "Yl7mp1CkwIsa"
      },
      "source": [
        "#### Questão 2"
      ]
    },
    {
      "cell_type": "code",
      "metadata": {
        "id": "n6uTSEO8wKQL",
        "colab": {
          "base_uri": "https://localhost:8080/",
          "height": 55
        },
        "outputId": "10bc4963-981b-40fa-e64b-df5efe3ce931"
      },
      "source": [
        "1 - stats.norm.cdf(44000, 38000, 3000)"
      ],
      "execution_count": null,
      "outputs": [
        {
          "output_type": "execute_result",
          "data": {
            "text/plain": [
              "0.02275013194817921"
            ]
          },
          "metadata": {
            "tags": []
          },
          "execution_count": 47
        }
      ]
    },
    {
      "cell_type": "code",
      "metadata": {
        "id": "jQ0BpppXwTQK",
        "colab": {
          "base_uri": "https://localhost:8080/",
          "height": 55
        },
        "outputId": "9041f2f7-c33c-4bbf-bc4f-965c5d0e5aa1"
      },
      "source": [
        "stats.norm.sf(44000, 38000, 3000) * 100"
      ],
      "execution_count": null,
      "outputs": [
        {
          "output_type": "execute_result",
          "data": {
            "text/plain": [
              "2.2750131948179195"
            ]
          },
          "metadata": {
            "tags": []
          },
          "execution_count": 48
        }
      ]
    },
    {
      "cell_type": "markdown",
      "metadata": {
        "id": "rM55aoLUAB1z"
      },
      "source": [
        "## Probabilidade e distribuição binomial\n",
        "\n",
        "- https://docs.scipy.org/doc/scipy/reference/generated/scipy.stats.binom.html#scipy.stats.binom"
      ]
    },
    {
      "cell_type": "markdown",
      "metadata": {
        "id": "R1GvBu2tAHeg"
      },
      "source": [
        "### Exemplo das moedas\n",
        "\n",
        "- Jogando a moeda 10 vezes, qual a probabilidade de obter 5 \"caras\"?"
      ]
    },
    {
      "cell_type": "code",
      "metadata": {
        "id": "xBpWBSR_D9nO"
      },
      "source": [
        "n = 10\n",
        "x = 5\n",
        "p = 0.5"
      ],
      "execution_count": null,
      "outputs": []
    },
    {
      "cell_type": "code",
      "metadata": {
        "id": "umu8c83XEFPi",
        "colab": {
          "base_uri": "https://localhost:8080/",
          "height": 55
        },
        "outputId": "24077df5-4001-499c-ee5c-b74d542e0f42"
      },
      "source": [
        "import math\n",
        "(math.factorial(n)) / (math.factorial(x) * math.factorial(n - x)) * math.pow(p, x) * math.pow(1 - p, n - x)"
      ],
      "execution_count": null,
      "outputs": [
        {
          "output_type": "execute_result",
          "data": {
            "text/plain": [
              "0.24609375"
            ]
          },
          "metadata": {
            "tags": []
          },
          "execution_count": 4
        }
      ]
    },
    {
      "cell_type": "code",
      "metadata": {
        "id": "xqkXWV4GExt5",
        "colab": {
          "base_uri": "https://localhost:8080/",
          "height": 55
        },
        "outputId": "f4009ee8-9d68-45c9-8f7b-eee5942155c5"
      },
      "source": [
        "stats.binom.pmf(x, n, p)"
      ],
      "execution_count": null,
      "outputs": [
        {
          "output_type": "execute_result",
          "data": {
            "text/plain": [
              "0.24609375000000025"
            ]
          },
          "metadata": {
            "tags": []
          },
          "execution_count": 6
        }
      ]
    },
    {
      "cell_type": "markdown",
      "metadata": {
        "id": "OpSKRl6nAL18"
      },
      "source": [
        "### Exercício 1\n",
        "\n",
        "- 70% das pessoas que compraram o livro de Python são mulheres. Se 10 leitores forem selecionados randomicamente, qual a probabilidade de selecionarmos 7 mulheres?"
      ]
    },
    {
      "cell_type": "code",
      "metadata": {
        "id": "Xny1sUr2ANx-"
      },
      "source": [
        "n = 10\n",
        "x = 7\n",
        "p = 0.7"
      ],
      "execution_count": null,
      "outputs": []
    },
    {
      "cell_type": "code",
      "metadata": {
        "id": "RL3GxQDgAPOq",
        "colab": {
          "base_uri": "https://localhost:8080/",
          "height": 55
        },
        "outputId": "1b42138d-ec0b-47c0-eafe-396b66a583cd"
      },
      "source": [
        "stats.binom.pmf(x, n, p)"
      ],
      "execution_count": null,
      "outputs": [
        {
          "output_type": "execute_result",
          "data": {
            "text/plain": [
              "0.26682793200000016"
            ]
          },
          "metadata": {
            "tags": []
          },
          "execution_count": 8
        }
      ]
    },
    {
      "cell_type": "markdown",
      "metadata": {
        "id": "IAY-YuWTARnE"
      },
      "source": [
        "### Exercício 2\n",
        "\n",
        "- Em uma linha de produção de uma fábrica de parafusos, a probabilidade de obter um parafuso defeituoso é 0,05. Tendo uma amostra de 50 peças, qual a probabilidade de obter\n",
        "\n",
        "1.   Um parafuso defeituoso\n",
        "2.   Nenhum parafuso defeituoso"
      ]
    },
    {
      "cell_type": "markdown",
      "metadata": {
        "id": "ny0Vglv_AV0I"
      },
      "source": [
        "#### Questão 1"
      ]
    },
    {
      "cell_type": "code",
      "metadata": {
        "id": "YTMuUfEfAXbD"
      },
      "source": [
        "n = 50\n",
        "x = 1\n",
        "p = 0.05"
      ],
      "execution_count": null,
      "outputs": []
    },
    {
      "cell_type": "code",
      "metadata": {
        "id": "fJfwHUGYAYsv",
        "colab": {
          "base_uri": "https://localhost:8080/",
          "height": 55
        },
        "outputId": "980f4e15-18f6-4e96-a788-9ff8f86bebb4"
      },
      "source": [
        "stats.binom.pmf(x, n, p)"
      ],
      "execution_count": null,
      "outputs": [
        {
          "output_type": "execute_result",
          "data": {
            "text/plain": [
              "0.20248677704398393"
            ]
          },
          "metadata": {
            "tags": []
          },
          "execution_count": 10
        }
      ]
    },
    {
      "cell_type": "markdown",
      "metadata": {
        "id": "gSxfyMArAaoZ"
      },
      "source": [
        "#### Questão 2"
      ]
    },
    {
      "cell_type": "code",
      "metadata": {
        "id": "CfA1CckPAcNO"
      },
      "source": [
        "n = 50\n",
        "x = 0\n",
        "p = 0.05"
      ],
      "execution_count": null,
      "outputs": []
    },
    {
      "cell_type": "code",
      "metadata": {
        "id": "4ygrnZuyAdce",
        "colab": {
          "base_uri": "https://localhost:8080/",
          "height": 55
        },
        "outputId": "d47fff13-cb98-4ba1-dc18-b5cb1cda1a5e"
      },
      "source": [
        "stats.binom.pmf(x, n, p)"
      ],
      "execution_count": null,
      "outputs": [
        {
          "output_type": "execute_result",
          "data": {
            "text/plain": [
              "0.0769449752767133"
            ]
          },
          "metadata": {
            "tags": []
          },
          "execution_count": 12
        }
      ]
    },
    {
      "cell_type": "markdown",
      "metadata": {
        "id": "-ZUN5ieXGSzk"
      },
      "source": [
        "## Probabilidade e distribuição de Poisson\n",
        "\n",
        "- https://docs.scipy.org/doc/scipy/reference/generated/scipy.stats.poisson.html"
      ]
    },
    {
      "cell_type": "markdown",
      "metadata": {
        "id": "U2fnkmZBGWch"
      },
      "source": [
        "### Exemplo dos carros\n",
        "\n",
        "- O número médio de carros vendidos por dia é 10. Qual a probabilidade de vender 14 carros amanhã?"
      ]
    },
    {
      "cell_type": "code",
      "metadata": {
        "id": "9yZG4BMFHlcC"
      },
      "source": [
        "x = 14\n",
        "media = 10"
      ],
      "execution_count": null,
      "outputs": []
    },
    {
      "cell_type": "code",
      "metadata": {
        "id": "ZfDxtuB8HpMa",
        "colab": {
          "base_uri": "https://localhost:8080/",
          "height": 55
        },
        "outputId": "ddcbd19d-c2c8-4061-fc22-0bcc3ad9a62e"
      },
      "source": [
        "math.e"
      ],
      "execution_count": null,
      "outputs": [
        {
          "output_type": "execute_result",
          "data": {
            "text/plain": [
              "2.718281828459045"
            ]
          },
          "metadata": {
            "tags": []
          },
          "execution_count": 14
        }
      ]
    },
    {
      "cell_type": "code",
      "metadata": {
        "id": "fJEi5TPIHs4V",
        "colab": {
          "base_uri": "https://localhost:8080/",
          "height": 55
        },
        "outputId": "1e9d9ee5-1e02-44b0-d2f1-2e7163c4e586"
      },
      "source": [
        "math.pow(math.e, -media) * (math.pow(media, x) / math.factorial(x)) * 100"
      ],
      "execution_count": null,
      "outputs": [
        {
          "output_type": "execute_result",
          "data": {
            "text/plain": [
              "5.207710444602621"
            ]
          },
          "metadata": {
            "tags": []
          },
          "execution_count": 26
        }
      ]
    },
    {
      "cell_type": "code",
      "metadata": {
        "id": "C7T0FIl-IVds",
        "colab": {
          "base_uri": "https://localhost:8080/",
          "height": 55
        },
        "outputId": "8cb1e4b9-38dd-466f-824f-88fa4c93dbb7"
      },
      "source": [
        "stats.poisson.pmf(x, media)"
      ],
      "execution_count": null,
      "outputs": [
        {
          "output_type": "execute_result",
          "data": {
            "text/plain": [
              "0.05207710444602615"
            ]
          },
          "metadata": {
            "tags": []
          },
          "execution_count": 27
        }
      ]
    },
    {
      "cell_type": "markdown",
      "metadata": {
        "id": "PPb2aSXOIpwl"
      },
      "source": [
        "### Exercício 1\n",
        "\n",
        "- Em uma linha de produção de uma fábrica de parafusos, a probabilidade é de obter 0,05 defeitos por UNIDADE. Qual a probabilidade de uma unidade apresentar:\n",
        "\n",
        "1.   Um defeito\n",
        "2.   Nenhum defeito"
      ]
    },
    {
      "cell_type": "markdown",
      "metadata": {
        "id": "TT5wf53EIsXm"
      },
      "source": [
        "#### Questão 1"
      ]
    },
    {
      "cell_type": "code",
      "metadata": {
        "id": "QWYlTjtdIul6"
      },
      "source": [
        "x = 1\n",
        "media = 0.05 "
      ],
      "execution_count": null,
      "outputs": []
    },
    {
      "cell_type": "code",
      "metadata": {
        "id": "TSRGX-F0IwBp",
        "colab": {
          "base_uri": "https://localhost:8080/",
          "height": 55
        },
        "outputId": "12b0d20b-bd16-4d16-b518-0468f0026bec"
      },
      "source": [
        "stats.poisson.pmf(x, media) * 100"
      ],
      "execution_count": null,
      "outputs": [
        {
          "output_type": "execute_result",
          "data": {
            "text/plain": [
              "4.756147122503571"
            ]
          },
          "metadata": {
            "tags": []
          },
          "execution_count": 34
        }
      ]
    },
    {
      "cell_type": "markdown",
      "metadata": {
        "id": "4AYL5-nTIyc6"
      },
      "source": [
        "#### Questão 2"
      ]
    },
    {
      "cell_type": "code",
      "metadata": {
        "id": "dyvm1oQgI0Fq"
      },
      "source": [
        "x = 0\n",
        "media = 0.05"
      ],
      "execution_count": null,
      "outputs": []
    },
    {
      "cell_type": "code",
      "metadata": {
        "id": "kNvZ0pb8I1oi",
        "colab": {
          "base_uri": "https://localhost:8080/",
          "height": 55
        },
        "outputId": "1a98573a-5d8c-4c8a-8c57-d01a756f094b"
      },
      "source": [
        "stats.poisson.pmf(x, media) * 100"
      ],
      "execution_count": null,
      "outputs": [
        {
          "output_type": "execute_result",
          "data": {
            "text/plain": [
              "95.1229424500714"
            ]
          },
          "metadata": {
            "tags": []
          },
          "execution_count": 37
        }
      ]
    },
    {
      "cell_type": "markdown",
      "metadata": {
        "id": "zOWT4LYiI532"
      },
      "source": [
        "### Exercício 2\n",
        "\n",
        "- Um vendedor de uma loja vende em média 50 produtos por dia. Qual a probabilidade de vender somente 5 produtos no próximo dia?"
      ]
    },
    {
      "cell_type": "code",
      "metadata": {
        "id": "5vMAviBmI7oF"
      },
      "source": [
        "x = 5\n",
        "media = 50"
      ],
      "execution_count": null,
      "outputs": []
    },
    {
      "cell_type": "code",
      "metadata": {
        "id": "GG8zKstlI9F6",
        "colab": {
          "base_uri": "https://localhost:8080/",
          "height": 55
        },
        "outputId": "cda22da2-c784-45cb-9294-0bde2fe6075a"
      },
      "source": [
        "stats.poisson.pmf(x, media)"
      ],
      "execution_count": null,
      "outputs": [
        {
          "output_type": "execute_result",
          "data": {
            "text/plain": [
              "5.02278606240605e-16"
            ]
          },
          "metadata": {
            "tags": []
          },
          "execution_count": 45
        }
      ]
    },
    {
      "cell_type": "markdown",
      "metadata": {
        "id": "LsU42k0cKRNV"
      },
      "source": [
        "## Previsão de probabilidades em machine learning"
      ]
    },
    {
      "cell_type": "code",
      "metadata": {
        "id": "bkOhuihLKSJR",
        "colab": {
          "base_uri": "https://localhost:8080/",
          "height": 228
        },
        "outputId": "0f534f1f-65ff-41c1-be24-1abe90f261aa"
      },
      "source": [
        "import pandas as pd\n",
        "dataset = pd.read_csv('credit_data.csv')\n",
        "dataset.dropna(inplace=True)\n",
        "dataset.head()"
      ],
      "execution_count": null,
      "outputs": [
        {
          "output_type": "execute_result",
          "data": {
            "text/html": [
              "<div>\n",
              "<style scoped>\n",
              "    .dataframe tbody tr th:only-of-type {\n",
              "        vertical-align: middle;\n",
              "    }\n",
              "\n",
              "    .dataframe tbody tr th {\n",
              "        vertical-align: top;\n",
              "    }\n",
              "\n",
              "    .dataframe thead th {\n",
              "        text-align: right;\n",
              "    }\n",
              "</style>\n",
              "<table border=\"1\" class=\"dataframe\">\n",
              "  <thead>\n",
              "    <tr style=\"text-align: right;\">\n",
              "      <th></th>\n",
              "      <th>i#clientid</th>\n",
              "      <th>income</th>\n",
              "      <th>age</th>\n",
              "      <th>loan</th>\n",
              "      <th>c#default</th>\n",
              "    </tr>\n",
              "  </thead>\n",
              "  <tbody>\n",
              "    <tr>\n",
              "      <th>0</th>\n",
              "      <td>1</td>\n",
              "      <td>66155.925095</td>\n",
              "      <td>59.017015</td>\n",
              "      <td>8106.532131</td>\n",
              "      <td>0</td>\n",
              "    </tr>\n",
              "    <tr>\n",
              "      <th>1</th>\n",
              "      <td>2</td>\n",
              "      <td>34415.153966</td>\n",
              "      <td>48.117153</td>\n",
              "      <td>6564.745018</td>\n",
              "      <td>0</td>\n",
              "    </tr>\n",
              "    <tr>\n",
              "      <th>2</th>\n",
              "      <td>3</td>\n",
              "      <td>57317.170063</td>\n",
              "      <td>63.108049</td>\n",
              "      <td>8020.953296</td>\n",
              "      <td>0</td>\n",
              "    </tr>\n",
              "    <tr>\n",
              "      <th>3</th>\n",
              "      <td>4</td>\n",
              "      <td>42709.534201</td>\n",
              "      <td>45.751972</td>\n",
              "      <td>6103.642260</td>\n",
              "      <td>0</td>\n",
              "    </tr>\n",
              "    <tr>\n",
              "      <th>4</th>\n",
              "      <td>5</td>\n",
              "      <td>66952.688845</td>\n",
              "      <td>18.584336</td>\n",
              "      <td>8770.099235</td>\n",
              "      <td>1</td>\n",
              "    </tr>\n",
              "  </tbody>\n",
              "</table>\n",
              "</div>"
            ],
            "text/plain": [
              "   i#clientid        income        age         loan  c#default\n",
              "0           1  66155.925095  59.017015  8106.532131          0\n",
              "1           2  34415.153966  48.117153  6564.745018          0\n",
              "2           3  57317.170063  63.108049  8020.953296          0\n",
              "3           4  42709.534201  45.751972  6103.642260          0\n",
              "4           5  66952.688845  18.584336  8770.099235          1"
            ]
          },
          "metadata": {
            "tags": []
          },
          "execution_count": 46
        }
      ]
    },
    {
      "cell_type": "code",
      "metadata": {
        "id": "Y_2Krt3jKVTs",
        "colab": {
          "base_uri": "https://localhost:8080/",
          "height": 160
        },
        "outputId": "c996f1f0-6f30-4816-cd80-90692ab84069"
      },
      "source": [
        "X = dataset.iloc[:,1:4].values\n",
        "X"
      ],
      "execution_count": null,
      "outputs": [
        {
          "output_type": "execute_result",
          "data": {
            "text/plain": [
              "array([[6.61559251e+04, 5.90170151e+01, 8.10653213e+03],\n",
              "       [3.44151540e+04, 4.81171531e+01, 6.56474502e+03],\n",
              "       [5.73171701e+04, 6.31080495e+01, 8.02095330e+03],\n",
              "       ...,\n",
              "       [4.43114493e+04, 2.80171669e+01, 5.52278669e+03],\n",
              "       [4.37560566e+04, 6.39717958e+01, 1.62272260e+03],\n",
              "       [6.94365796e+04, 5.61526170e+01, 7.37883360e+03]])"
            ]
          },
          "metadata": {
            "tags": []
          },
          "execution_count": 47
        }
      ]
    },
    {
      "cell_type": "code",
      "metadata": {
        "id": "hlW_N9FoKW34",
        "colab": {
          "base_uri": "https://localhost:8080/",
          "height": 55
        },
        "outputId": "0bbb13ba-8c32-4d1c-ed49-510afcf450ff"
      },
      "source": [
        "y = dataset.iloc[:,4].values\n",
        "y"
      ],
      "execution_count": null,
      "outputs": [
        {
          "output_type": "execute_result",
          "data": {
            "text/plain": [
              "array([0, 0, 0, ..., 1, 0, 0])"
            ]
          },
          "metadata": {
            "tags": []
          },
          "execution_count": 48
        }
      ]
    },
    {
      "cell_type": "code",
      "metadata": {
        "id": "XLwe331OKYeq",
        "colab": {
          "base_uri": "https://localhost:8080/",
          "height": 55
        },
        "outputId": "a4cf8a0e-dbd4-4bd9-94a7-00edfb164f38"
      },
      "source": [
        "from sklearn.naive_bayes import GaussianNB\n",
        "naive_bayes = GaussianNB()\n",
        "naive_bayes.fit(X, y)"
      ],
      "execution_count": null,
      "outputs": [
        {
          "output_type": "execute_result",
          "data": {
            "text/plain": [
              "GaussianNB(priors=None, var_smoothing=1e-09)"
            ]
          },
          "metadata": {
            "tags": []
          },
          "execution_count": 49
        }
      ]
    },
    {
      "cell_type": "code",
      "metadata": {
        "id": "zO8a1v8iKaTa",
        "colab": {
          "base_uri": "https://localhost:8080/",
          "height": 55
        },
        "outputId": "9c12534a-b0a7-46bd-d5f0-3bd7458e014a"
      },
      "source": [
        "X[0], X[0].shape"
      ],
      "execution_count": null,
      "outputs": [
        {
          "output_type": "execute_result",
          "data": {
            "text/plain": [
              "(array([6.61559251e+04, 5.90170151e+01, 8.10653213e+03]), (3,))"
            ]
          },
          "metadata": {
            "tags": []
          },
          "execution_count": 51
        }
      ]
    },
    {
      "cell_type": "code",
      "metadata": {
        "id": "lixqV7KQKby9",
        "colab": {
          "base_uri": "https://localhost:8080/",
          "height": 55
        },
        "outputId": "4e1cc56f-61df-43be-ca5f-31553c5a94ae"
      },
      "source": [
        "novo = X[0].reshape(1,-1)\n",
        "novo.shape"
      ],
      "execution_count": null,
      "outputs": [
        {
          "output_type": "execute_result",
          "data": {
            "text/plain": [
              "(1, 3)"
            ]
          },
          "metadata": {
            "tags": []
          },
          "execution_count": 57
        }
      ]
    },
    {
      "cell_type": "code",
      "metadata": {
        "id": "G4EfDifZKdP9",
        "colab": {
          "base_uri": "https://localhost:8080/",
          "height": 55
        },
        "outputId": "26e64260-368e-4544-d7c9-4f425f47549e"
      },
      "source": [
        "novo"
      ],
      "execution_count": null,
      "outputs": [
        {
          "output_type": "execute_result",
          "data": {
            "text/plain": [
              "array([[6.61559251e+04, 5.90170151e+01, 8.10653213e+03]])"
            ]
          },
          "metadata": {
            "tags": []
          },
          "execution_count": 58
        }
      ]
    },
    {
      "cell_type": "code",
      "metadata": {
        "id": "36yItUpaKevn",
        "colab": {
          "base_uri": "https://localhost:8080/",
          "height": 55
        },
        "outputId": "f131366c-a65e-4088-bb9e-f5ed69133354"
      },
      "source": [
        "naive_bayes.predict(novo)"
      ],
      "execution_count": null,
      "outputs": [
        {
          "output_type": "execute_result",
          "data": {
            "text/plain": [
              "array([0])"
            ]
          },
          "metadata": {
            "tags": []
          },
          "execution_count": 59
        }
      ]
    },
    {
      "cell_type": "code",
      "metadata": {
        "id": "wVWYLwYQKgKG",
        "colab": {
          "base_uri": "https://localhost:8080/",
          "height": 55
        },
        "outputId": "6a19d430-9d05-4af4-9f2b-6427682db5ad"
      },
      "source": [
        "previsao = naive_bayes.predict_proba(novo)\n",
        "previsao"
      ],
      "execution_count": null,
      "outputs": [
        {
          "output_type": "execute_result",
          "data": {
            "text/plain": [
              "array([[1.00000000e+00, 2.03924534e-10]])"
            ]
          },
          "metadata": {
            "tags": []
          },
          "execution_count": 60
        }
      ]
    },
    {
      "cell_type": "code",
      "metadata": {
        "id": "Bb1pAe0lKhkY",
        "colab": {
          "base_uri": "https://localhost:8080/",
          "height": 55
        },
        "outputId": "b9fd09d0-4cae-4469-fe43-cab1734e1099"
      },
      "source": [
        "np.argmax(previsao)"
      ],
      "execution_count": null,
      "outputs": [
        {
          "output_type": "execute_result",
          "data": {
            "text/plain": [
              "0"
            ]
          },
          "metadata": {
            "tags": []
          },
          "execution_count": 61
        }
      ]
    }
  ]
}